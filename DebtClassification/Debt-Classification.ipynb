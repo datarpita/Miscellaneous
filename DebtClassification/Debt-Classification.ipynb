{
 "cells": [
  {
   "cell_type": "code",
   "execution_count": 43,
   "metadata": {},
   "outputs": [],
   "source": [
    "import numpy as np\n",
    "import pandas as pd\n",
    "import nltk\n",
    "from nltk.tokenize import word_tokenize\n",
    "from nltk.corpus import stopwords\n",
    "from sklearn.feature_extraction.text import CountVectorizer\n",
    "from nltk.stem.snowball import SnowballStemmer\n",
    "from nltk.stem.porter import PorterStemmer\n",
    "from nltk.stem import WordNetLemmatizer"
   ]
  },
  {
   "cell_type": "code",
   "execution_count": 44,
   "metadata": {},
   "outputs": [],
   "source": [
    "raw_data = pd.read_excel('data/Raw_Data_TechDebt.xlsx')"
   ]
  },
  {
   "cell_type": "code",
   "execution_count": 45,
   "metadata": {},
   "outputs": [
    {
     "data": {
      "text/html": [
       "<div>\n",
       "<style scoped>\n",
       "    .dataframe tbody tr th:only-of-type {\n",
       "        vertical-align: middle;\n",
       "    }\n",
       "\n",
       "    .dataframe tbody tr th {\n",
       "        vertical-align: top;\n",
       "    }\n",
       "\n",
       "    .dataframe thead th {\n",
       "        text-align: right;\n",
       "    }\n",
       "</style>\n",
       "<table border=\"1\" class=\"dataframe\">\n",
       "  <thead>\n",
       "    <tr style=\"text-align: right;\">\n",
       "      <th></th>\n",
       "      <th>Debt Description</th>\n",
       "      <th>Debt Class</th>\n",
       "    </tr>\n",
       "  </thead>\n",
       "  <tbody>\n",
       "    <tr>\n",
       "      <th>0</th>\n",
       "      <td>EPS tries to push script packets and scripts f...</td>\n",
       "      <td>Technical</td>\n",
       "    </tr>\n",
       "    <tr>\n",
       "      <th>1</th>\n",
       "      <td>Normalization failure -  SAP sytem sends dupli...</td>\n",
       "      <td>Technical</td>\n",
       "    </tr>\n",
       "    <tr>\n",
       "      <th>2</th>\n",
       "      <td>Metrica monitoring issue - issue were raised b...</td>\n",
       "      <td>Technical</td>\n",
       "    </tr>\n",
       "    <tr>\n",
       "      <th>3</th>\n",
       "      <td>Unable to withdraw entries becasue related scr...</td>\n",
       "      <td>Technical</td>\n",
       "    </tr>\n",
       "    <tr>\n",
       "      <th>4</th>\n",
       "      <td>eSpecial Consideration website does not open f...</td>\n",
       "      <td>Technical</td>\n",
       "    </tr>\n",
       "  </tbody>\n",
       "</table>\n",
       "</div>"
      ],
      "text/plain": [
       "                                    Debt Description Debt Class\n",
       "0  EPS tries to push script packets and scripts f...  Technical\n",
       "1  Normalization failure -  SAP sytem sends dupli...  Technical\n",
       "2  Metrica monitoring issue - issue were raised b...  Technical\n",
       "3  Unable to withdraw entries becasue related scr...  Technical\n",
       "4  eSpecial Consideration website does not open f...  Technical"
      ]
     },
     "execution_count": 45,
     "metadata": {},
     "output_type": "execute_result"
    }
   ],
   "source": [
    "raw_data.head()"
   ]
  },
  {
   "cell_type": "code",
   "execution_count": 46,
   "metadata": {},
   "outputs": [
    {
     "name": "stderr",
     "output_type": "stream",
     "text": [
      "[nltk_data] Downloading package punkt to\n",
      "[nltk_data]     C:\\Users\\dattaa\\AppData\\Roaming\\nltk_data...\n",
      "[nltk_data]   Package punkt is already up-to-date!\n"
     ]
    },
    {
     "data": {
      "text/plain": [
       "True"
      ]
     },
     "execution_count": 46,
     "metadata": {},
     "output_type": "execute_result"
    }
   ],
   "source": [
    "nltk.download('punkt')"
   ]
  },
  {
   "cell_type": "code",
   "execution_count": 47,
   "metadata": {},
   "outputs": [
    {
     "name": "stderr",
     "output_type": "stream",
     "text": [
      "[nltk_data] Downloading package stopwords to\n",
      "[nltk_data]     C:\\Users\\dattaa\\AppData\\Roaming\\nltk_data...\n",
      "[nltk_data]   Package stopwords is already up-to-date!\n"
     ]
    },
    {
     "data": {
      "text/plain": [
       "True"
      ]
     },
     "execution_count": 47,
     "metadata": {},
     "output_type": "execute_result"
    }
   ],
   "source": [
    "nltk.download('stopwords')"
   ]
  },
  {
   "cell_type": "code",
   "execution_count": 48,
   "metadata": {},
   "outputs": [
    {
     "data": {
      "text/plain": [
       "pandas.core.series.Series"
      ]
     },
     "execution_count": 48,
     "metadata": {},
     "output_type": "execute_result"
    }
   ],
   "source": [
    "type(raw_data['Debt Description'])"
   ]
  },
  {
   "cell_type": "code",
   "execution_count": 49,
   "metadata": {},
   "outputs": [],
   "source": [
    "documents = list(raw_data['Debt Description'])"
   ]
  },
  {
   "cell_type": "code",
   "execution_count": 50,
   "metadata": {},
   "outputs": [],
   "source": [
    "## initialise the inbuilt Stemmer and the Lemmatizer\n",
    "stemmer = PorterStemmer()\n",
    "wordnet_lemmatizer = WordNetLemmatizer()"
   ]
  },
  {
   "cell_type": "code",
   "execution_count": 51,
   "metadata": {},
   "outputs": [
    {
     "name": "stdout",
     "output_type": "stream",
     "text": [
      "['ep tri push script packet script non-activ session st', 'normal failur - sap sytem send duplic script st , result job failur st', 'metrica monitor issu - issu rais elit speak api directli , tri test data pre product environ', 'unabl withdraw entri becasu relat script packet exist ep', 'especi consider websit open user intermitt', 'spjntap040 apach server issu lead host applic connect problem', \"prep centr 's statu 'access grant ' prep centr user still abl login\", \"centr upload work repositori , longer avail , state 'file found ' .\", 'user unabl merg candid cam admin due data cam & interchang', 'number result ukvi flow ibas ukvi .', 'statement result gener ceo candid result applic', 'claim/grade/achiev addit & delet interchang', 'request delet examin em applic', 'problem load entri file pdq modul cca2 seri', 'problem data feed ep st half hourli refresh job . wrong packet id tag script data', 'record process d79 suspens', 'cam gti suspens applic error', \"file ci direct applic goe 'ep unconvert area ' load ep entri load job\", 'ep esolcr push sometim fail hang', 'apach servic report intermitt error indic potenci issu applic server', 'clm candid abl launch test second attempt', 'candid link function show possibl merg candid', 'tri merg candid use account merg function metrica , user unabl merg encount error .', 'automark : lib respons checker fetch toggl score automark .', 'metrica-return code receiv within 4 hour speech submiss action .', 'om applic open user due ms access databas corrupt', 'multipl speak test issu encount specif centr .', 'need function am applic add user directli am databas activ directori .', 'spstsap001 & spstsap002 servic alert', 'unabl suspend access prepcentr previous delet prepcentr fullnam', 'problem ms ole object . error occur open test/task document help ole object', 'error import file cam', 'st half hourli job failur due wrong feed link pr 3228', 'request add gti entri type', 'interchang : candid appear claim upload spreadsheet', 'cam alloc - unabl send alloc moder', 'user unabl login cm site due issu pyodbc adaptor . resolv reset adaptor', 'ceo verif portal ( old ) - unabl reset password user', 'metrica site unavail due redi cach work', 'monitor alert receiv indic erepositori site avail', 'error asp extract sap', 'cam award issu - cam award encount coupl failur', 'cam caap - record ( center , date stamp ) unlock', 'request add achiev certif', 'bulat token issu ( add / delet / updat / reset token )', 'remov contact-us/feedback/term condit link admin site .', 'st applic temporarili unavail / slow', 'error code display launch test use entri code', 'st half hourli normal job stuck product .', 'discrep test entri import edi file , entri centr data swape chang', \"claim stuck 'final ' statu multipl reason\", 'cie direct perform degrat due multipl entri upload center .', 'especi consider websit open user intermitt', 'lower examin asfa admin need delet root examin get delet avoid duplic entri asfa portal .', 'problem creat new user email address valid', 'cam intern servic alert call : permiss chang folder : \\\\cam apps\\\\cam admin server spcamap001.ucles.intern', 'problem gener log report , due long run end error', 'esm mark aggreg count high', 'issu download metrica media file', 'candid unabl regist cea file manag applic ( http : //candidates.cambridgeenglish.org )', 'bulat product databas configur valu got chang .', 'spreadsheet gener ep load product screen mprd muat environ', 'metrica - camla applic due incorrectli format resourc file', 'function skill marksheet - user want remov marksheet', 'candid result onlin - unabl regist', 'esm access script bulk upload failur report', 'at result onlin', 'bulat part 4 audio speak test load examin tri listen', 'bulat overal score incompat calcul speak token', 'request run report result comparison', 'differ claim get updat moder sampl submit claim', 'cup candid abl launch test metrica', 'apo often receiv requir huge number add/remov examin to/from particular centr statu role chang . function need ad address .', 'candid claim visibl moder review claim area', 'at result onlin centr issu result csv tsa-s1 tmua', 'ceo : candid result servic get frequent', \"ceo : screen freez click `` submit select entri '' menu option chrome\", 'lib use offic 2010 open word document , window 10 citrix creat issu open word document .', 'test start log log token though candid complet test success', 'duplic assign got creat esm databas', 'biztalk platform interchang risk unresolv incid due unsupport servic .', 'enquiri key , examin actual end date show result enquiri screen ep , prevent enquiri close .', \"graph shift slightli upward portrait mode err print data truncat user print `` landscap '' mode\", 'candid entri stuck process statu cie direct . howev ep validated/process .', 'duplic book get randomli record databas candid book onlin .', 'esolcp push fail whenev ep delet centr', 'ep push pull email notif', 'eresult dataload job fail work fine restart', 'especi consider websit open user intermitt', 'problem import edi test entri file gti , entri creat cam feed entri interchang', 'problem multipart packet ’ part number yellow label packet .', 'function avail correct error made examin mark .', 'rate manag export servic take huge time execut result rate miss ep transfer time slot', 'annual request data se qualif', 'incorrect data show sometim pass/fail report', 'ceo- prep center data issu - prep centr access result chart past fce school candid', 'em password reset request', 'packet present st applic', 'cie direct applic', 'grade/mark chang check mu160/0042 , mu360/0042 , my051/1124', 'scan alloc issu st . alloc complet ep , ’ seem fed st half-hourli refresh ,', 'articl number gener am show scale prevent process', \"candid abl regist portal use `` helpdesk @ cambridgeenglish.org '' , `` cambridgeenglishonlin @ cambridgeenglish.org '' `` no-repli @ cambridgeenglish.org '' allow .\", 'claim import cam arf interchang without unit', 'problem auto-capitalizt featur candid name get atuo updat upper case', 'entri extranet app server gener alert stdout log file big .', 'adip grade issu - inconsist grade re-grad lower environ compar mprd .', 'admin page entri extranet show blank screen', 'clm integr issu - data/scor sent clm metrica', 'syllabu miss gener statement result candid taken group award .', 'centr abl rais access script enquiri compon', 'candid miss candid specif breakdown report j250', 'cumul specif report result document area interchang run correctli', 'scenario , , modifi option avail respect releas date candid , centr univers', \"first time center set , n't flow ep em automat . apo need set manual em databas .\", 'incorrect total test credit valu test avail report', 'issu timer behaviour test result addit time avail candid', 'candid number filtrat work search script function .', 'metrica/clm : audio resum launch clm site', 'request unlock record cam applic', 'unabl download sor report', 'bulat : zd865278 : account deactiv recertif yet complet', 'checkpoint [ http : //ciecheckpoint.ucles.org.uk ]', 'anonym session refer copi firefox', 'test multipl content caus error anonym test', \"`` user role allow access applic '' messag upon log http : //repository.ocr.org.uk\", 'best pixel size need import equat svg file metrica .', 'bulk alloc notif mail examin job role type need supress', 'candid assign get updat wrong data creat data anomali', 'metrica - camla applic work', 'candid registr - even user select one two candid export button still tri export record .', 'candid result servic creat blank sor xml intermitt', 'candid see blank question number field mcl content type number mode test section disabl .', 'candid receiv survey invit email candid result portal', 'carnegi automark return error audio file less 0.25 second', 'ce admin resend respons elit respons', 'centr access detail special consid applic .', 'ci screen test save data databas intermitt .', 'metrica dictionari api often access test', \"click cancel select 'add session ' user taken session list page .\", 'metrica test - canid abl access result', 'client user institut see location/venu main institut creat session .', 'clm receiv scores/progress metrica', 'content configur page show 1 hour ahead current time', 'content product user face error ad discrimin facil difficulti attribut test level insid test detail page', 'content type split view work properli item content product', 'coursework mark submit centr enter coursework mark screen chang -1', 'custom would like add chang logic reschedul book button appear candid .', 'daili extract report identifi item escalet error gener manual need ad function applciat', 'moder submit straight ocr instead escal moder manag', 'remov child node approv warn ep session review screen', 'daili report detail unit centr review moder report gener manual need ad function applciat', 'data size limit tii_data column test_instance_integr tabl need increas', 'incorrect amount appear invoic sap due incorrect amount sent ep', 'difficulti attribut item display correct valu content product site', \"control report mark ' caap cambridg technic exam stopp run produc error code 114\", 'one book get creat one entri code portal', 'problem coda invoic file cam export check digit miss', 'unwant link avail cm messag section reason .', 'em run ucl id prevent user process new speak examin nomin', 'scale rank order violat lighlight ep scale screen', 'error convert imag particular item metrica content product', 'problem bulat load balanc server upbltap031 , respond lead servic avail', 'one candid present singl roll line sampl request', 'nowait error rais processign scolarship ep', 'esm connect lib databs handl properli , connect persist releas result oracl except', 'esm invalid mark ( cleb ) use aggreg rather valid mark ( imrb ) .', 'examin certif test open old display style', 'ielt exam materi check process use ibas dev databas', 'ukba extract job fail data sinc 17th feb 2018 alert receiv .', 'examin flag issu sound qualiti number candid linguaskil east asia march 2019 session .', 'ep error warn messag user tri withdraw candid manual grade', 'failur plr-uln valid lr due higher batchsiz', 'fao metrica apo team - drop menu shwo correct valu session group', 'filter problem content admin', 'format error invoic read listen test', 'caap applic freez result determin process', 'perf environ refresh issu caus ( metrica ) websit error .', 'full mark report everi centre/unit/comp specif session gener manual need ad function applciat', \"user metrica creat `` & '' ampersand charact , allow user login metrica portal\", 'imag get overlap ad item content product', 'activ result raw mark actual raw mark unit r018 instead subject j818.henc raw mark match specif .', 'resourc busi error run job sts_o_refdes_job sts_m_refdes_job stsprd01 .', 'content product site , item , comment get truncat caus data loss .', 'incorrect aggreg calcul flag question respons candid', 'rate manag audit excel file get truncat convert text .', 'incorrect letter align appear test item content product', 'interchang - moder abl withdraw candid “ process ” claim', 'ssr server unabl connect datasourc upgrad bulat databas 11g 12c', 'interchang - unabl make full entri candid alreadi enter differ scheme famili', 'request assign claim differ moder', 'interchang : moder receiv email multipl time submiss claim centr', 'result often visibl candid complet test .', 'lib qprd preview report show wrong total mark .', 'interchang : one moder abl edit claim .', 'invalid charact appear confirm entri templat', 'input folder goe miss caus user unabl import test entries/gti cam', 'master moder progress report centr compon gener manual need ad function applciat', 'problem ce lib publish markschem automark evo task', 'metrica - export key button longer present session detail page', 'metrica - mark session page , imag show question .', 'metrica - delet client institutuion affect total count licenc institut', 'metrica admin camla wild card accept filter item test usag current stage attribut', 'incorrect team-posit displau otp result enquiry-grad chang screen', 'sort name column work candid detail screen', 'test countdown timer sometim get stuck 2 1 second page movement', 'metrica admin report time tri view', 'metrica admin run time error view test', 'dmas/spjntor001 servic outag due network stack failur .', 'problem ‘ purg task ’ function task publish automark', 'mail encount error pick re-send', 'st exist job item record logic miss half hourli job st ep .', 'metrica test balanc show incorrect valu institut', 'unabl end centr associ esol onlin centr portal', 'metrica test publish issu adapt test larg number item', 'moder unabl access ocr repositori', 'problem save cb ielt task evo function', 'modman/ep consortium centr process ep regress', 'ep abl display valid messag user tri freez syllabu grade area', 'problem purg test copi , remov document origin test', 'incorrect group assign 9239 syllabu grade adip', \"land page need candiat centr sub page 'http : //results.cambridgeassessment.org.uk/ site\", 'audit record creat mark releas result enquiri ep', 'exist code login cam centr invoic extract fail check digit miss .', 'new session ad activ alreadi suspend session group', 'problem candid entri certain assess , cours colleg , observ duplic entri back', 'lib attribut report end databas error', 'valid stop duplic entri upload', 'abl save updat timer candid stay current question longer time refresh test .', 'onlin anonym test work adapt test', 'email address examin ep present activ directori flow em', 'page refresh happen mark session creation', 'pagin filtrat attribut work properli content product', 'parent creditor id ocr erepositori get wrongli updat', 'pm unabl run full mark report compon level', 'portal user get system error audit screen', 'certif number print certif differ number store ep', 'prepar centr name contain greek charact updat question mark ceo', \"project ' field n't consid filter result item project select combin *all items* pre-defin filter\", 'report moder revers identifi moder submiss review worklist gener manual need ad function applciat', 'report need gener file uplod data specif session .', 'resend email button bmat non-imat book id fail send email candid .', 'review improv metrica clm score transfer process', 'import csv file session via add entri button , speed task slow', 'repeat request remov achiev candid cam', 'automark tomcat server often need restart', 'ci data go dma', 'sometim error receiv pdfserver gener pdf lib', 'lib pdf server account log', 'purg request lib task', 'renam request lib task', 'automart data popul attribut report', 'ror outcom email go intermitt', 'ror screen show n/a instead mark outcom email get sent old session', 'centr unabl make test entri', 'e-spec con entri appear ep syllabu 0470', 'session import esm fail everi monday morn due ep downtim .', 'cam bulk buy - access violat issu', 'simulatan request biztalk upload mark ep often result duplic mark upload candid ep', 'item throw error metrica live candid access appear test', 'ror record push interchang show error ep', 'text box accept text skip next one empow test firefox .', 'pdq certif code gener ep entri area amend file load', 'email server metrica 10,000/day mail limit per mail box breach , applic block send mail 24 hour .', \"candid item mark report ' mei c4 4754 accur show mark candid could award .\", 'fee late fee section disappear user click venu receiv institut tab session detail', 'provid function upload new version bmat secur ebook', 'examin push st ep', 'unabl export select candid regist candid page , system throw error upper record limit reach .', 'unabl export test form pdf html firefox', 'unabl view edit data user em', 'unit tittl grid chang errorni next page click magnifi glass', 'user abl enter card expiri date payment page .', \"user get timeout error tri use `` advanc search '' filter rate\", 'ad comment item cp site , non-ascii charact item content replac double-escap html entiti comment save .', 'centr make move entri , case , entri treat re-entri 0r .', 'ep esolcr push slower expect caus delay sor gener', 'creat session in-test timer get disabl', 'ep overrid third grade syllabu j250 & j260 even judgement', 'endors grade appear twice result file ocr endors qualif', 'error messag beyond specif record set receiv user tri migrat data dma drd', 'creat equat editor convert creat distort imag print folder .', \"examin “ complet mark ” first time multipl mark id , see error messag “ select respons complet , except list ''\", \"log , imperson , candid regist bmat , appear phone number field miss 'check detail ' screen\", 'updat workflow task lock review , instead go next stage go final media creation', 'user tri bulk upload respons data use csv file metrica , system take much time sometim even time .', 'problem data type convers lead import edi file failur', 'qppd feed failur due incorrect am , trail space found lib databas', \"use ipad/iphon buy test metrica candid shop user tick `` alreadi account '' goe add login detail page switch `` need make account '' screen .\", \"whenev user tri access `` institut '' tab admin access databas crash say error occur .\", 'updat workflow stage task item user get error', 'cam bulk buy process', 'zero mark report gener manual need ad function applic', 'new featur need interchang enabl user amend claim', 'new featur need interchang enabl user upload larg file', 'new featur need modman enabl user upload help support document websit', \"new featur need interchang enabl user download 'download file histori '\", 'new featur need ukvi enabl admin user delet applciat user', 'new featur need lib enabl user download bank access report', 'new featur need ep enabl user download report base user input', 'new featur need cie direct enabl user copi old user messag new user']\n"
     ]
    }
   ],
   "source": [
    "def preprocess(document, stem=True):\n",
    "    'changes document to lower case and removes stopwords'\n",
    "\n",
    "    # change sentence to lower case\n",
    "    document = document.lower()\n",
    "\n",
    "    # tokenize into words\n",
    "    words = word_tokenize(document)\n",
    "\n",
    "    # remove stop words\n",
    "    words = [word for word in words if word not in stopwords.words(\"english\")]\n",
    "    \n",
    "    # snowball stemmer\n",
    "    #stemmer = SnowballStemmer(\"english\")\n",
    "    #words = [stemmer.stem(token) for token in words]\n",
    "    \n",
    "    if stem:\n",
    "        words = [stemmer.stem(word) for word in words]\n",
    "    else:\n",
    "        words = [wordnet_lemmatizer.lemmatize(word, pos='v') for word in words]\n",
    "\n",
    "    # join words to make sentence\n",
    "    document = \" \".join(words)\n",
    "    \n",
    "    return document\n",
    "\n",
    "documents = [preprocess(document) for document in documents]\n",
    "print(documents)"
   ]
  },
  {
   "cell_type": "code",
   "execution_count": 52,
   "metadata": {},
   "outputs": [],
   "source": [
    "pd.DataFrame(documents).to_csv('debt_desc_stage2.csv')"
   ]
  },
  {
   "cell_type": "code",
   "execution_count": 53,
   "metadata": {},
   "outputs": [],
   "source": [
    "### Create Bag of words model"
   ]
  },
  {
   "cell_type": "code",
   "execution_count": 54,
   "metadata": {
    "scrolled": true
   },
   "outputs": [
    {
     "name": "stdout",
     "output_type": "stream",
     "text": [
      "  (0, 686)\t1\n",
      "  (0, 650)\t1\n",
      "  (0, 25)\t1\n",
      "  (0, 481)\t1\n",
      "  (0, 509)\t1\n",
      "  (0, 636)\t2\n",
      "  (0, 561)\t1\n",
      "  (0, 754)\t1\n",
      "  (0, 264)\t1\n",
      "  (1, 396)\t1\n",
      "  (1, 609)\t1\n",
      "  (1, 243)\t1\n",
      "  (1, 645)\t1\n",
      "  (1, 721)\t1\n",
      "  (1, 623)\t1\n",
      "  (1, 296)\t2\n",
      "  (1, 482)\t1\n",
      "  (1, 686)\t2\n",
      "  (1, 636)\t1\n",
      "  (2, 263)\t1\n",
      "  (2, 553)\t1\n",
      "  (2, 540)\t1\n",
      "  (2, 205)\t1\n",
      "  (2, 733)\t1\n",
      "  (2, 225)\t1\n",
      "  :\t:\n",
      "  (298, 474)\t1\n",
      "  (298, 409)\t1\n",
      "  (298, 595)\t1\n",
      "  (298, 20)\t1\n",
      "  (298, 786)\t1\n",
      "  (299, 87)\t1\n",
      "  (299, 253)\t1\n",
      "  (299, 376)\t1\n",
      "  (299, 300)\t1\n",
      "  (299, 238)\t1\n",
      "  (299, 476)\t1\n",
      "  (299, 474)\t1\n",
      "  (299, 595)\t1\n",
      "  (299, 786)\t2\n",
      "  (299, 264)\t1\n",
      "  (300, 253)\t1\n",
      "  (300, 450)\t1\n",
      "  (300, 182)\t1\n",
      "  (300, 300)\t1\n",
      "  (300, 476)\t2\n",
      "  (300, 147)\t1\n",
      "  (300, 492)\t1\n",
      "  (300, 474)\t1\n",
      "  (300, 224)\t1\n",
      "  (300, 786)\t3\n"
     ]
    }
   ],
   "source": [
    "vectorizer = CountVectorizer()\n",
    "bow_model = vectorizer.fit_transform(documents)\n",
    "print(bow_model)"
   ]
  },
  {
   "cell_type": "code",
   "execution_count": 55,
   "metadata": {
    "scrolled": true
   },
   "outputs": [
    {
     "name": "stdout",
     "output_type": "stream",
     "text": [
      "(301, 818)\n",
      "['000', '0042', '0470', '0r', '10', '1124', '114', '11g', '12c', '17th', '2010', '2018', '2019', '24', '25', '3228', '4754', '9239', 'abl', 'accept', 'access', 'account', 'accur', 'achiev', 'action', 'activ', 'actual', 'ad', 'adapt', 'adaptor', 'add', 'addit', 'address', 'adip', 'admin', 'advanc', 'affect', 'aggreg', 'ahead', 'alert', 'align', 'all', 'alloc', 'allow', 'alreadi', 'am', 'amend', 'amount', 'ampersand', 'annual', 'anomali', 'anonym', 'apach', 'api', 'apo', 'app', 'appear', 'applciat', 'applic', 'approv', 'apps', 'area', 'arf', 'articl', 'ascii', 'asfa', 'asia', 'asp', 'assess', 'assign', 'associ', 'at', 'attempt', 'attribut', 'atuo', 'audio', 'audit', 'auto', 'automark', 'automart', 'automat', 'avail', 'avoid', 'award', 'back', 'balanc', 'bank', 'base', 'batchsiz', 'becasu', 'behaviour', 'best', 'beyond', 'big', 'biztalk', 'blank', 'block', 'bmat', 'book', 'box', 'breach', 'breakdown', 'bulat', 'bulk', 'busi', 'button', 'buy', 'c4', 'caap', 'cach', 'calcul', 'call', 'cam', 'cambridg', 'cambridgeassessment', 'cambridgeenglish', 'cambridgeenglishonlin', 'camla', 'cancel', 'candiat', 'candid', 'candidates', 'canid', 'capitalizt', 'card', 'carnegi', 'case', 'caus', 'cb', 'cca2', 'ce', 'cea', 'center', 'centr', 'centre', 'ceo', 'certain', 'certif', 'chang', 'charact', 'chart', 'check', 'checker', 'checkpoint', 'child', 'chrome', 'ci', 'cie', 'ciecheckpoint', 'citrix', 'claim', 'cleb', 'click', 'client', 'clm', 'close', 'cm', 'coda', 'code', 'colleg', 'column', 'combin', 'comment', 'comp', 'compar', 'comparison', 'complet', 'compon', 'con', 'condit', 'configur', 'confirm', 'connect', 'consid', 'consider', 'consortium', 'contact', 'contain', 'content', 'control', 'convers', 'convert', 'copi', 'correct', 'correctli', 'corrupt', 'could', 'count', 'countdown', 'coupl', 'cours', 'coursework', 'cp', 'crash', 'creat', 'creation', 'credit', 'creditor', 'csv', 'cumul', 'cup', 'current', 'custom', 'd79', 'daili', 'data', 'databas', 'databs', 'dataload', 'datasourc', 'date', 'day', 'deactiv', 'defin', 'degrat', 'delay', 'delet', 'detail', 'determin', 'dev', 'dictionari', 'differ', 'difficulti', 'digit', 'direct', 'directli', 'directori', 'disabl', 'disappear', 'discrep', 'discrimin', 'displau', 'display', 'distort', 'dma', 'dmas', 'document', 'double', 'download', 'downtim', 'drd', 'drop', 'due', 'duplic', 'east', 'ebook', 'edi', 'edit', 'editor', 'elit', 'em', 'email', 'empow', 'enabl', 'encount', 'end', 'endors', 'enquiri', 'enquiry', 'enter', 'entiti', 'entri', 'entries', 'environ', 'ep', 'equat', 'erepositori', 'eresult', 'err', 'error', 'errorni', 'escal', 'escalet', 'escap', 'esm', 'esol', 'esolcp', 'esolcr', 'especi', 'even', 'everi', 'evo', 'exam', 'examin', 'excel', 'except', 'execut', 'exist', 'expect', 'expiri', 'export', 'extract', 'extranet', 'face', 'facil', 'fail', 'failur', 'famili', 'fao', 'fce', 'featur', 'feb', 'fed', 'fee', 'feed', 'feedback', 'fetch', 'field', 'file', 'filter', 'filtrat', 'final', 'fine', 'firefox', 'first', 'flag', 'flow', 'folder', 'form', 'format', 'found', 'freez', 'frequent', 'from', 'full', 'fullnam', 'function', 'gener', 'get', 'glass', 'go', 'goe', 'got', 'grad', 'grade', 'grant', 'graph', 'greek', 'grid', 'group', 'gti', 'half', 'handl', 'hang', 'happen', 'help', 'helpdesk', 'henc', 'high', 'higher', 'histori', 'host', 'hour', 'hourli', 'howev', 'html', 'http', 'huge', 'ibas', 'id', 'identifi', 'ielt', 'imag', 'imat', 'imperson', 'import', 'improv', 'imrb', 'in', 'incid', 'incompat', 'inconsist', 'incorrect', 'incorrectli', 'increas', 'indic', 'input', 'insid', 'instead', 'institut', 'institutuion', 'integr', 'interchang', 'intermitt', 'intern', 'invalid', 'invit', 'invoic', 'ipad', 'iphon', 'issu', 'item', 'items', 'j250', 'j260', 'j818', 'job', 'judgement', 'key', 'label', 'land', 'landscap', 'larg', 'late', 'launch', 'lead', 'less', 'letter', 'level', 'lib', 'licenc', 'lighlight', 'like', 'limit', 'line', 'linguaskil', 'link', 'list', 'listen', 'live', 'load', 'location', 'lock', 'log', 'logic', 'login', 'long', 'longer', 'loss', 'lower', 'lr', 'made', 'magnifi', 'mail', 'main', 'make', 'manag', 'manual', 'march', 'mark', 'markschem', 'marksheet', 'master', 'match', 'materi', 'mcl', 'media', 'mei', 'menu', 'merg', 'messag', 'metrica', 'migrat', 'miss', 'mode', 'moder', 'modifi', 'modman', 'modul', 'monday', 'monitor', 'morn', 'move', 'movement', 'mprd', 'ms', 'mu160', 'mu360', 'muat', 'much', 'multipart', 'multipl', 'my051', 'name', 'need', 'network', 'new', 'next', 'no', 'node', 'nomin', 'non', 'normal', 'notif', 'nowait', 'number', 'object', 'observ', 'occur', 'ocr', 'offic', 'often', 'old', 'ole', 'om', 'one', 'onlin', 'open', 'option', 'oracl', 'order', 'org', 'origin', 'otp', 'outag', 'outcom', 'overal', 'overlap', 'overrid', 'packet', 'page', 'pagin', 'parent', 'part', 'particular', 'pass', 'password', 'past', 'payment', 'pdf', 'pdfserver', 'pdq', 'per', 'perf', 'perform', 'permiss', 'persist', 'phone', 'pick', 'pixel', 'platform', 'plr', 'pm', 'popul', 'portal', 'portrait', 'posit', 'possibl', 'potenci', 'pr', 'pre', 'prep', 'prepar', 'prepcentr', 'present', 'prevent', 'preview', 'previous', 'print', 'problem', 'process', 'processign', 'produc', 'product', 'progress', 'project', 'properli', 'provid', 'publish', 'pull', 'purg', 'push', 'pyodbc', 'qppd', 'qprd', 'qualif', 'qualiti', 'question', 'r018', 'rais', 'randomli', 'rank', 'rate', 'rather', 'raw', 're', 'reach', 'read', 'reason', 'receiv', 'recertif', 'record', 'redi', 'refer', 'refresh', 'regist', 'registr', 'regress', 'relat', 'releas', 'remov', 'renam', 'repeat', 'replac', 'repli', 'report', 'repositori', 'repository', 'request', 'requir', 'reschedul', 'resend', 'reset', 'resolv', 'resourc', 'respect', 'respond', 'respons', 'restart', 'result', 'results', 'resum', 'return', 'revers', 'review', 'risk', 'role', 'roll', 'root', 'ror', 'run', 's1', 'sampl', 'sap', 'save', 'say', 'scale', 'scan', 'scenario', 'scheme', 'school', 'scolarship', 'scor', 'score', 'scores', 'screen', 'script', 'se', 'search', 'second', 'section', 'secur', 'see', 'seem', 'select', 'send', 'sent', 'seri', 'server', 'servic', 'session', 'set', 'shift', 'shop', 'show', 'shwo', 'simulatan', 'sinc', 'singl', 'site', 'size', 'skill', 'skip', 'slightli', 'slot', 'slow', 'slower', 'sometim', 'sor', 'sort', 'sound', 'space', 'spcamap001', 'speak', 'spec', 'special', 'specif', 'speech', 'speed', 'spjntap040', 'spjntor001', 'split', 'spreadsheet', 'spstsap001', 'spstsap002', 'ssr', 'st', 'stack', 'stage', 'stamp', 'start', 'state', 'statement', 'statu', 'stay', 'stdout', 'still', 'stop', 'stopp', 'store', 'straight', 'sts_m_refdes_job', 'sts_o_refdes_job', 'stsprd01', 'stuck', 'style', 'sub', 'subject', 'submiss', 'submit', 'success', 'support', 'supress', 'survey', 'suspend', 'suspens', 'svg', 'swape', 'switch', 'syllabu', 'system', 'sytem', 'tab', 'tabl', 'tag', 'take', 'taken', 'task', 'team', 'technic', 'templat', 'temporarili', 'term', 'test', 'test_instance_integr', 'text', 'third', 'though', 'throw', 'tick', 'tii_data', 'time', 'timeout', 'timer', 'tittl', 'tmua', 'to', 'toggl', 'token', 'tomcat', 'total', 'trail', 'transfer', 'treat', 'tri', 'truncat', 'tsa', 'twice', 'two', 'type', 'ucl', 'ucles', 'uk', 'ukba', 'ukvi', 'uln', 'unabl', 'unavail', 'unconvert', 'unit', 'univers', 'unlock', 'unresolv', 'unsupport', 'unwant', 'upbltap031', 'updat', 'upgrad', 'upload', 'uplod', 'upon', 'upper', 'upward', 'us', 'usag', 'use', 'user', 'valid', 'validated', 'valu', 'venu', 'verif', 'version', 'via', 'view', 'violat', 'visibl', 'want', 'warn', 'websit', 'whenev', 'wild', 'window', 'withdraw', 'within', 'without', 'word', 'work', 'workflow', 'worklist', 'would', 'wrong', 'wrongli', 'xml', 'yellow', 'yet', 'zd865278', 'zero']\n"
     ]
    }
   ],
   "source": [
    "print(bow_model.shape)\n",
    "print(vectorizer.get_feature_names())"
   ]
  },
  {
   "cell_type": "code",
   "execution_count": null,
   "metadata": {},
   "outputs": [],
   "source": []
  }
 ],
 "metadata": {
  "kernelspec": {
   "display_name": "Python 3",
   "language": "python",
   "name": "python3"
  },
  "language_info": {
   "codemirror_mode": {
    "name": "ipython",
    "version": 3
   },
   "file_extension": ".py",
   "mimetype": "text/x-python",
   "name": "python",
   "nbconvert_exporter": "python",
   "pygments_lexer": "ipython3",
   "version": "3.7.3"
  }
 },
 "nbformat": 4,
 "nbformat_minor": 2
}
